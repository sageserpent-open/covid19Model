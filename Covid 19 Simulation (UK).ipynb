{
 "cells": [
  {
   "cell_type": "code",
   "execution_count": 1,
   "metadata": {},
   "outputs": [],
   "source": [
    "import numpy as np\n",
    "from matplotlib import pyplot\n",
    "from scipy.integrate import solve_ivp\n",
    "from scipy.optimize import brentq\n",
    "\n",
    "import math\n",
    "\n",
    "from IPython.display import HTML\n",
    "from ipywidgets.widgets import interact, interactive, IntSlider, FloatSlider, Layout\n",
    "\n",
    "%matplotlib inline\n",
    "\n",
    "style = {'description_width': '150px'}\n",
    "slider_layout = Layout(width='99%')"
   ]
  },
  {
   "cell_type": "code",
   "execution_count": 2,
   "metadata": {},
   "outputs": [
    {
     "data": {
      "application/vnd.jupyter.widget-view+json": {
       "model_id": "f37a920e1bd34661a278b6fc1a000821",
       "version_major": 2,
       "version_minor": 0
      },
      "text/plain": [
       "interactive(children=(FloatSlider(value=60000000.0, continuous_update=False, description='Initial population.'…"
      ]
     },
     "metadata": {},
     "output_type": "display_data"
    }
   ],
   "source": [
    "def simulate(initialPopulation, infectedOnDayZero, earlyExponentialRate, meanDurationOfInfectionInDays, timespanInDays):\n",
    "    uninfectedOnDayZero = initialPopulation - infectedOnDayZero\n",
    "    growthRate = earlyExponentialRate / initialPopulation\n",
    "    decayRate = 1 / meanDurationOfInfectionInDays\n",
    "    \n",
    "    def odeRhs(timeInDays, dependentValues):\n",
    "        uninfected, infected = dependentValues\n",
    "        infectionRate = growthRate * uninfected * infected\n",
    "        rateOfChangeOfUninfected = - infectionRate\n",
    "        rateOfChangeOfInfected = infectionRate - decayRate * infected\n",
    "        return (rateOfChangeOfUninfected, rateOfChangeOfInfected)\n",
    "    \n",
    "    odeSolution = solve_ivp(odeRhs, (0, timespanInDays), ((uninfectedOnDayZero, infectedOnDayZero)), \"LSODA\")\n",
    "\n",
    "    \n",
    "    days = odeSolution.t\n",
    "    populations = odeSolution.y\n",
    "    \n",
    "    uninfectedAtPeakInfection = uninfectedOnDayZero / (earlyExponentialRate * meanDurationOfInfectionInDays)\n",
    "    \n",
    "    asymptoticUninfected = brentq(\n",
    "        lambda asymptoticUninfectedEstimate:\n",
    "            uninfectedOnDayZero - asymptoticUninfectedEstimate - uninfectedAtPeakInfection * (math.log(uninfectedOnDayZero) - math.log(asymptoticUninfectedEstimate)),\n",
    "        1, uninfectedAtPeakInfection)\n",
    "\n",
    "        \n",
    "    # Shamelessly copied from: https://elc.github.io/posts/ordinary-differential-equations-with-python/\n",
    "\n",
    "\n",
    "    \n",
    "    fig, subplots = pyplot.subplots(1, 2, figsize=(15, 10))\n",
    "    \n",
    "    subplotAxes = subplots[0]\n",
    "    \n",
    "    subplotAxes.plot(days, populations[0], label='Uninfected(t)')\n",
    "    subplotAxes.plot(days, populations[1], label='Infected(t)')\n",
    "    \n",
    "\n",
    "    step = 15\n",
    "    rotation = \"horizontal\"\n",
    "    \n",
    "    subplotAxes.set_xticklabels(np.arange(0, timespanInDays + 1, step, dtype=np.int), rotation=rotation)\n",
    "    subplotAxes.set_xticks(np.arange(0, timespanInDays + 1, step))\n",
    "        \n",
    "    subplotAxes.set_xlim([0, timespanInDays])\n",
    "    subplotAxes.set_xlabel('Time')\n",
    "    subplotAxes.set_ylabel('Population')\n",
    "    subplotAxes.set_yscale('log')\n",
    "    subplotAxes.axhline(asymptoticUninfected, label = \"Final uninfected: {}\".format(asymptoticUninfected), linestyle = \"dashed\", color = \"green\")\n",
    "    subplotAxes.axhline(uninfectedAtPeakInfection, label = \"Uninfected at peak infection: {}\".format(uninfectedAtPeakInfection), linestyle = \"dashed\", color = \"red\")\n",
    "    subplotAxes.legend(loc='best')\n",
    "    subplotAxes.grid()\n",
    "    \n",
    "    pyplot.tight_layout()\n",
    "    pyplot.show()\n",
    "\n",
    "    \n",
    "interact(simulate,\n",
    "         initialPopulation = FloatSlider(min = 1, max = 6E+7, value = 6E+7, description = 'Initial population.', style=style, layout=slider_layout, continuous_update=False),\n",
    "         infectedOnDayZero = FloatSlider(min = 1, max = 1000, value = 10, description = 'Initial number of infected people.', style=style, layout=slider_layout, continuous_update=False),\n",
    "         earlyExponentialRate = FloatSlider(min = 0, max = 3, value = 0.248562\n",
    ", description = 'Early exponential rate.', style=style, layout=slider_layout, continuous_update=False),\n",
    "         meanDurationOfInfectionInDays = FloatSlider(min = 1, max = 100, value = 28, description = 'Mean duration of infection.', style=style, layout=slider_layout, continuous_update=False),\n",
    "         timespanInDays = IntSlider(min = 10, max = 365, value = 300, description = 'Timespan in days.', style=style, layout=slider_layout, continuous_update=False));\n",
    "        "
   ]
  },
  {
   "cell_type": "code",
   "execution_count": null,
   "metadata": {},
   "outputs": [],
   "source": []
  },
  {
   "cell_type": "raw",
   "metadata": {},
   "source": []
  },
  {
   "cell_type": "code",
   "execution_count": null,
   "metadata": {},
   "outputs": [],
   "source": []
  }
 ],
 "metadata": {
  "kernelspec": {
   "display_name": "Python 3",
   "language": "python",
   "name": "python3"
  },
  "language_info": {
   "codemirror_mode": {
    "name": "ipython",
    "version": 3
   },
   "file_extension": ".py",
   "mimetype": "text/x-python",
   "name": "python",
   "nbconvert_exporter": "python",
   "pygments_lexer": "ipython3",
   "version": "3.8.2"
  }
 },
 "nbformat": 4,
 "nbformat_minor": 4
}
